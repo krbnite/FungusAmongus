{
 "cells": [
  {
   "cell_type": "markdown",
   "metadata": {},
   "source": [
    "# Treebeards and the Fungus Amongus\n",
    "The data we explore today (whatever day it is for you) is the [mushroom data](https://archive.ics.uci.edu/ml/machine-learning-databases/mushroom/) found at the [UC Irvine Machine Learning Repository](https://archive.ics.uci.edu/ml/index.php).  \n",
    "\n",
    "The type of exploration, you ask?  \n",
    "\n",
    "\n",
    "\n",
    "![Treebeard](./assets/Treebeard.jpg)\n",
    "\n",
    "Asking sentient trees what they know about poisonous mushrooms, of course."
   ]
  },
  {
   "cell_type": "code",
   "execution_count": 9,
   "metadata": {
    "collapsed": false
   },
   "outputs": [
    {
     "name": "stdout",
     "output_type": "stream",
     "text": [
      "--2017-08-01 15:25:56--  https://archive.ics.uci.edu/ml/machine-learning-databases/mushroom/agaricus-lepiota.names\n",
      "Resolving archive.ics.uci.edu... 128.195.10.249\n",
      "Connecting to archive.ics.uci.edu|128.195.10.249|:443... connected.\n",
      "HTTP request sent, awaiting response... 200 OK\n",
      "Length: 6816 (6.7K) [text/plain]\n",
      "Saving to: ‘agaricus-lepiota.names.1’\n",
      "\n",
      "agaricus-lepiota.na 100%[===================>]   6.66K  --.-KB/s    in 0.001s  \n",
      "\n",
      "2017-08-01 15:25:56 (6.56 MB/s) - ‘agaricus-lepiota.names.1’ saved [6816/6816]\n",
      "\n",
      "--2017-08-01 15:25:56--  https://archive.ics.uci.edu/ml/machine-learning-databases/mushroom/agaricus-lepiota.data\n",
      "Resolving archive.ics.uci.edu... 128.195.10.249\n",
      "Connecting to archive.ics.uci.edu|128.195.10.249|:443... connected.\n",
      "HTTP request sent, awaiting response... 200 OK\n",
      "Length: 373704 (365K) [text/plain]\n",
      "Saving to: ‘agaricus-lepiota.data.1’\n",
      "\n",
      "agaricus-lepiota.da 100%[===================>] 364.95K   464KB/s    in 0.8s    \n",
      "\n",
      "2017-08-01 15:25:58 (464 KB/s) - ‘agaricus-lepiota.data.1’ saved [373704/373704]\n",
      "\n"
     ]
    }
   ],
   "source": [
    "# Get Mushroom Data\n",
    "!wget https://archive.ics.uci.edu/ml/machine-learning-databases/mushroom/agaricus-lepiota.names\n",
    "!wget https://archive.ics.uci.edu/ml/machine-learning-databases/mushroom/agaricus-lepiota.data\n",
    "\n",
    "# Extract lines w/ feature names\n",
    "#  -- you might use python to do this; I just use whatever quickly comes to mind\n",
    "!cat agaricus-lepiota.names | grep \"^[[:space:]]\\{4,5\\}[0-9]\\{1,2\\}.*:\" > feature_names.txt\n",
    "\n",
    "# Extract features names\n",
    "with open('feature_names.txt') as f:\n",
    "    features = [line.split()[1][0:-1] for line in f]"
   ]
  },
  {
   "cell_type": "code",
   "execution_count": 4,
   "metadata": {
    "collapsed": false
   },
   "outputs": [],
   "source": [
    "import pandas as pd\n",
    "import numpy as np\n",
    "from sklearn.linear_model import LogisticRegression\n",
    "from sklearn.tree import DecisionTreeClassifier\n",
    "from sklearn.ensemble import RandomForestClassifier\n",
    "from sklearn import metrics\n",
    "from sklearn.model_selection import train_test_split\n",
    "%matplotlib inline"
   ]
  },
  {
   "cell_type": "markdown",
   "metadata": {},
   "source": [
    "Read in the data with [pd.read_csv](https://pandas.pydata.org/pandas-docs/stable/generated/pandas.read_csv.html),\n",
    "making sure to specify the names. (Simple inspection of the file shows that the target variable is in the first column, followed by the features.)"
   ]
  },
  {
   "cell_type": "code",
   "execution_count": 60,
   "metadata": {
    "collapsed": false
   },
   "outputs": [],
   "source": [
    "data = pd.read_csv('agaricus-lepiota.data', names=['deadly']+features)\n",
    "y = pd.DataFrame([1 if target=='p' else 0 for target in data['deadly']], columns=['deadly'])\n",
    "x = data.drop('deadly', axis=1)\n",
    "\n",
    "# Train, Validate, Test\n",
    "x_trn, x_vt, y_trn, y_vt = train_test_split(x, y, train_size=0.70)\n",
    "x_val, x_tst, y_val, y_txt = train_test_split(x_vt, y_vt, test_size=0.50)\n",
    "\n",
    "# Some/Most techniques require the categorical vars to be one-hot encoded\n",
    "x_trn_code = pd.get_dummies(x_trn)\n",
    "x_val_code = pd.get_dummies(x_val)\n",
    "x_tst_code = pd.get_dummies(x_tst)\n",
    "\n",
    "# Make sure the various dummy vars are represented in each subset\n",
    "all_ftrs = pd.get_dummies(x).columns\n",
    "for ftr in all_ftrs.difference(x_trn_code.columns): x_trn_code[ftr]=0\n",
    "for ftr in all_ftrs.difference(x_val_code.columns): x_val_code[ftr]=0\n",
    "for ftr in all_ftrs.difference(x_tst_code.columns): x_tst_code[ftr]=0"
   ]
  },
  {
   "cell_type": "markdown",
   "metadata": {},
   "source": [
    "## Are these classes balanced or imbalanced?\n",
    "Turns out they're pretty dang balanced, which means we don't have to think too much.\n",
    "But beware: rarely are classes balanced in the \"real\" world.  (No, mushrooms are not real!)"
   ]
  },
  {
   "cell_type": "code",
   "execution_count": 59,
   "metadata": {
    "collapsed": false
   },
   "outputs": [
    {
     "data": {
      "text/plain": [
       "deadly    0.480654\n",
       "dtype: float64"
      ]
     },
     "execution_count": 59,
     "metadata": {},
     "output_type": "execute_result"
    }
   ],
   "source": [
    "y_trn.sum() / y_trn.count()"
   ]
  },
  {
   "cell_type": "markdown",
   "metadata": {},
   "source": [
    "## A Tree\n",
    "Interestingly, from a theoretical perspective, decision trees can handle categorical\n",
    "variables just fine without one-hot encoding them.  However, [from an implementation perspective,\n",
    "this is not necessarily true](https://roamanalytics.com/2016/10/28/are-categorical-variables-getting-lost-in-your-random-forests/). Turns out, one-hot encoding can degrade the performance (beware the curse of dimensionality!).  But [scikit-learn don't care](https://datascience.stackexchange.com/questions/5226/strings-as-features-in-decision-tree-random-forest)!  In scikit-learn, you **have** to one-hot encode the categorical features.  \n",
    "\n",
    "Note that this is a bummer since one of the desirable traits of decision trees is the fact that they require almost no preprocessing (no need for logs or Box-Cox, normalization, etc).  So, one thing to add to this project is to also do a decision tree (and random forest) in R to see how the results differ.\n",
    "\n",
    "In sklearn, we have various options for a [decision tree](http://scikit-learn.org/stable/modules/generated/sklearn.tree.DecisionTreeClassifier.html#sklearn.tree.DecisionTreeClassifier):\n",
    "* criterion: \n",
    "    - Default: 'gini' (Gini impurity)\n",
    "    - 'entropy' (information gain)\n",
    "* splitter: \n",
    "    - Default: 'best'\n",
    "    - 'random'\n",
    "* max_features\n",
    "    - Default: None (max_features = n_features)\n",
    "    - int (consider int features at each split), e.g., 3\n",
    "    - float (percentage of total features considered at each split), e.g., 0.5\n",
    "    - 'auto' (max_features = sqrt(n_features))\n",
    "    - 'sqrt' (same as 'auto')\n",
    "    - 'log2' (can you guess?)\n",
    "* max_depth\n",
    "    - Default: None (go deep!)\n",
    "    - int: do not go further than int splits\n",
    "    - if None, splits continue until all leaves are pure or min_samples_split is reached\n",
    "* min_samples_split\n",
    "    - Default: 2 (i.e., split until leaf is pure or some other constraint is met)\n",
    "    - int (split if n_data_points_in_node >= int, barring no other constraint prevents such)\n",
    "    - float (split if n_data_points_in_node >= ceil(float\\*n_data_points), barring no other constraint)\n",
    "* min_samples_leaf\n",
    "    - \n",
    "* min_weight_fraction_leaf\n",
    "* max_leaf_nodes\n",
    "* class_weight\n",
    "* random_state\n",
    "* min_impurity_split\n",
    "\n",
    "Whoa, all these options... It's like ice cream or beer: too many choices, damn it!\n",
    "\n",
    "No worries... Let's just play around with them.  Maybe we will learn something!  \n",
    "(Disclaimer: Or maybe not.)"
   ]
  },
  {
   "cell_type": "code",
   "execution_count": 94,
   "metadata": {
    "collapsed": true
   },
   "outputs": [],
   "source": [
    "gin_tree = DecisionTreeClassifier(random_state=0, criterion='gini')\n",
    "ent_tree = DecisionTreeClassifier(random_state=0, criterion='entropy')"
   ]
  },
  {
   "cell_type": "code",
   "execution_count": 93,
   "metadata": {
    "collapsed": false
   },
   "outputs": [
    {
     "name": "stdout",
     "output_type": "stream",
     "text": [
      "Gini: 0.347107438017\n",
      "Entropy: 0.665173572228\n"
     ]
    }
   ],
   "source": [
    "gin_tree.fit(x_trn_code, y_trn)\n",
    "ent_tree.fit(x_trn_code, y_trn)\n",
    "print('Gini:',    metrics.f1_score(y_val, gin_tree.predict(x_val_code)))\n",
    "print('Entropy:', metrics.f1_score(y_val, ent_tree.predict(x_val_code)))"
   ]
  },
  {
   "cell_type": "markdown",
   "metadata": {},
   "source": [
    "You can do a \"bootstrapping\" of sorts by changing the random_state and finding the median. (Obviously this is ok for this small data set...but becomes less ok as N -> BIG!)"
   ]
  },
  {
   "cell_type": "code",
   "execution_count": 97,
   "metadata": {
    "collapsed": false
   },
   "outputs": [],
   "source": [
    "# Probably a more efficient way of doing this than forLoop, but uhhh... Look over there! -->\n",
    "gf1=list(); ef1=list()\n",
    "for i in range(1000):\n",
    "    gin_tree = DecisionTreeClassifier(random_state=i, criterion='gini')\n",
    "    ent_tree = DecisionTreeClassifier(random_state=i, criterion='entropy')\n",
    "    gin_tree.fit(x_trn_code, y_trn)\n",
    "    ent_tree.fit(x_trn_code, y_trn)\n",
    "    gf1.append(metrics.f1_score(y_val, gin_tree.predict(x_val_code)))\n",
    "    ef1.append(metrics.f1_score(y_val, ent_tree.predict(x_val_code)))\n"
   ]
  },
  {
   "cell_type": "code",
   "execution_count": 104,
   "metadata": {
    "collapsed": false
   },
   "outputs": [
    {
     "data": {
      "text/plain": [
       "array([[<matplotlib.axes._subplots.AxesSubplot object at 0x11a38a5c0>]], dtype=object)"
      ]
     },
     "execution_count": 104,
     "metadata": {},
     "output_type": "execute_result"
    },
    {
     "data": {
      "image/png": "[encoded data removed]",
      "text/plain": [
       "<matplotlib.figure.Figure at 0x11a372c18>"
      ]
     },
     "metadata": {},
     "output_type": "display_data"
    }
   ],
   "source": [
    "pd.DataFrame(gf1).hist()"
   ]
  },
  {
   "cell_type": "code",
   "execution_count": 106,
   "metadata": {
    "collapsed": false
   },
   "outputs": [
    {
     "data": {
      "text/plain": [
       "array([[<matplotlib.axes._subplots.AxesSubplot object at 0x11a4f72b0>]], dtype=object)"
      ]
     },
     "execution_count": 106,
     "metadata": {},
     "output_type": "execute_result"
    },
    {
     "data": {
      "image/png": "[encoded data removed]",
      "text/plain": [
       "<matplotlib.figure.Figure at 0x11a5869e8>"
      ]
     },
     "metadata": {},
     "output_type": "display_data"
    }
   ],
   "source": [
    "pd.DataFrame(ef1).hist()"
   ]
  },
  {
   "cell_type": "code",
   "execution_count": null,
   "metadata": {
    "collapsed": true
   },
   "outputs": [],
   "source": []
  }
 ],
 "metadata": {
  "kernelspec": {
   "display_name": "Python 3",
   "language": "python",
   "name": "python3"
  },
  "language_info": {
   "codemirror_mode": {
    "name": "ipython",
    "version": 3
   },
   "file_extension": ".py",
   "mimetype": "text/x-python",
   "name": "python",
   "nbconvert_exporter": "python",
   "pygments_lexer": "ipython3",
   "version": "3.6.0"
  },
  "latex_envs": {
   "LaTeX_envs_menu_present": true,
   "autocomplete": true,
   "bibliofile": "biblio.bib",
   "cite_by": "apalike",
   "current_citInitial": 1,
   "eqLabelWithNumbers": true,
   "eqNumInitial": 1,
   "hotkeys": {
    "equation": "Ctrl-E",
    "itemize": "Ctrl-I"
   },
   "labels_anchors": false,
   "latex_user_defs": false,
   "report_style_numbering": false,
   "user_envs_cfg": false
  }
 },
 "nbformat": 4,
 "nbformat_minor": 2
}
