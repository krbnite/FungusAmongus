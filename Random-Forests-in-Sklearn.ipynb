{
 "cells": [
  {
   "cell_type": "markdown",
   "metadata": {},
   "source": [
    "Good ref: https://stats.stackexchange.com/questions/18891/bagging-boosting-and-stacking-in-machine-learning\n",
    "\n",
    "Some folks distinguish between random forests and bagging DTs:\n",
    "* https://www.quora.com/What-are-the-differences-between-bagged-trees-and-random-forests\n",
    "* http://machinelearningmastery.com/bagging-and-random-forest-ensemble-algorithms-for-machine-learning/\n",
    "\n",
    "I think this is because you can build up to the concept of a random forest by first discussing decision trees,\n",
    "then decision tree bagging, and finally with a small tweak, random forests.\n",
    "\n",
    "Mathematically, a single decision tree and a bagged decision tree amounts to a special cases of a random forest.  \n",
    "So, personally, I think it's ok to use the two terms interchangeably. \n",
    "\n",
    "http://machinelearningmastery.com/bagging-and-random-forest-ensemble-algorithms-for-machine-learning/\n",
    "\n",
    "\n",
    "In short, a random forest bootstraps the predictions of an ensemble of $N_{t}$ decision trees. The split at each node is based on the best discriminating feature from a set of $M_{F}$ randomly-selected features out of $N_{F}$ total features. \n",
    "\n",
    "\n",
    "* When $M_{F}=N_{F}$, those above would refer to the random forest as bagged decision trees.\n",
    "* When $M_{F}=N_{F}$ and $N_{T}=1$, the \"random forest\" is just a decision tree.\n",
    "* When $M_{F}<N_{F}$ and $N_{T}=1$, you have what you might call a random decision tree.\n",
    "\n",
    "So, a random forest is a classifier that bags random decision trees.\n",
    "\n",
    "\"What do you mean by 'bags', Kevin?\"\n",
    "\n",
    "Bagging stands for \"bootstrap aggregation,\" but really it's the same thing as bootstrapping.\n",
    "It's the term used when bootstrapping a model's prediction. But make no mistake, you can literally\n",
    "just call it bootstrapping...and you can call bootstrapping the mean \"bagging the mean\" if you want.\n",
    "B/c when in bootstrapping do you not aggregate?\n",
    "\n",
    "Defaults for $M_{N}$:\n",
    "* Classification: m = sqrt($N_{F}$)\n",
    "* Regression: m = $N_{F}$/3\n",
    "\n",
    "\n"
   ]
  },
  {
   "cell_type": "code",
   "execution_count": null,
   "metadata": {
    "collapsed": true
   },
   "outputs": [],
   "source": []
  }
 ],
 "metadata": {
  "kernelspec": {
   "display_name": "Python 3",
   "language": "python",
   "name": "python3"
  },
  "language_info": {
   "codemirror_mode": {
    "name": "ipython",
    "version": 3
   },
   "file_extension": ".py",
   "mimetype": "text/x-python",
   "name": "python",
   "nbconvert_exporter": "python",
   "pygments_lexer": "ipython3",
   "version": "3.6.0"
  },
  "latex_envs": {
   "LaTeX_envs_menu_present": true,
   "autocomplete": true,
   "bibliofile": "biblio.bib",
   "cite_by": "apalike",
   "current_citInitial": 1,
   "eqLabelWithNumbers": true,
   "eqNumInitial": 1,
   "hotkeys": {
    "equation": "Ctrl-E",
    "itemize": "Ctrl-I"
   },
   "labels_anchors": false,
   "latex_user_defs": false,
   "report_style_numbering": false,
   "user_envs_cfg": false
  }
 },
 "nbformat": 4,
 "nbformat_minor": 2
}
